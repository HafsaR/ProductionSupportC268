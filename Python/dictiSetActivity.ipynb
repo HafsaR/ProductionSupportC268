{
 "cells": [
  {
   "cell_type": "code",
   "execution_count": 2,
   "id": "e5110650-c400-467f-b36f-eae404ec2730",
   "metadata": {},
   "outputs": [],
   "source": [
    "name = \"Hafsa\"\n",
    "age = 27\n",
    "states = [\"SK\", \"ON\"]\n"
   ]
  },
  {
   "cell_type": "code",
   "execution_count": 3,
   "id": "1d89e028-fb15-4297-8fb0-aa67cdef0cf2",
   "metadata": {},
   "outputs": [
    {
     "name": "stdout",
     "output_type": "stream",
     "text": [
      "Hafsa\n",
      "27\n",
      "['SK', 'ON']\n"
     ]
    }
   ],
   "source": [
    "print(name)\n",
    "print(age)\n",
    "print(states)\n",
    "\n"
   ]
  },
  {
   "cell_type": "code",
   "execution_count": 4,
   "id": "ea5ea9ad-39a1-49f8-bd05-3e59c403e6ee",
   "metadata": {},
   "outputs": [
    {
     "ename": "SyntaxError",
     "evalue": "invalid decimal literal (2766639676.py, line 4)",
     "output_type": "error",
     "traceback": [
      "\u001b[0;36m  Input \u001b[0;32mIn [4]\u001b[0;36m\u001b[0m\n\u001b[0;31m    5_age = 33  #incorrect\u001b[0m\n\u001b[0m     ^\u001b[0m\n\u001b[0;31mSyntaxError\u001b[0m\u001b[0;31m:\u001b[0m invalid decimal literal\n"
     ]
    }
   ],
   "source": [
    "age = 33 #correct\n",
    "_age = 33 #correct\n",
    "__age = 33 #correct\n",
    "5_age = 33  #incorrect\n",
    "-age = 33 #incorrect"
   ]
  },
  {
   "cell_type": "code",
   "execution_count": 5,
   "id": "3e5bacc0-f57d-4bd1-9d1b-86abd9b126a4",
   "metadata": {},
   "outputs": [
    {
     "ename": "SyntaxError",
     "evalue": "cannot assign to operator (1652015685.py, line 5)",
     "output_type": "error",
     "traceback": [
      "\u001b[0;36m  Input \u001b[0;32mIn [5]\u001b[0;36m\u001b[0m\n\u001b[0;31m    -age = 33 #incorrect\u001b[0m\n\u001b[0m    ^\u001b[0m\n\u001b[0;31mSyntaxError\u001b[0m\u001b[0;31m:\u001b[0m cannot assign to operator\n"
     ]
    }
   ],
   "source": [
    "age = 33 #correct\n",
    "_age = 33 #correct\n",
    "__age = 33 #correct\n",
    "_age = 33  #incorrect\n",
    "-age = 33 #incorrect"
   ]
  },
  {
   "cell_type": "code",
   "execution_count": 6,
   "id": "0b982df2-11df-4160-883d-20e952a6292f",
   "metadata": {},
   "outputs": [
    {
     "ename": "SyntaxError",
     "evalue": "invalid decimal literal (725084648.py, line 4)",
     "output_type": "error",
     "traceback": [
      "\u001b[0;36m  Input \u001b[0;32mIn [6]\u001b[0;36m\u001b[0m\n\u001b[0;31m    5_age = 33  #incorrect\u001b[0m\n\u001b[0m     ^\u001b[0m\n\u001b[0;31mSyntaxError\u001b[0m\u001b[0;31m:\u001b[0m invalid decimal literal\n"
     ]
    }
   ],
   "source": [
    "age = 33 #correct\n",
    "_age = 33 #correct\n",
    "__age = 33 #correct\n",
    "5_age = 33  #incorrect\n",
    "age = 33 #incorrect"
   ]
  },
  {
   "cell_type": "code",
   "execution_count": 8,
   "id": "7b190ab1-925a-481a-b353-ee091340631d",
   "metadata": {},
   "outputs": [],
   "source": [
    "age = 33 #correct\n",
    "_age = 33 #correct\n",
    "__age = 33 #correct\n",
    "_age = 33  #incorrect\n",
    "_age = 33 #incorrect"
   ]
  },
  {
   "cell_type": "code",
   "execution_count": 9,
   "id": "cc8b82f4-9bed-41a2-b3ff-ec22cd3cc8b5",
   "metadata": {},
   "outputs": [],
   "source": [
    "\n",
    "\n",
    "states = \"SK\", \"ON\""
   ]
  },
  {
   "cell_type": "code",
   "execution_count": 19,
   "id": "ab4df0c0-6377-41c8-9cf4-ced855acaf95",
   "metadata": {},
   "outputs": [],
   "source": [
    "\n",
    "\n",
    "states = \"SK\", \"ON\"\n"
   ]
  },
  {
   "cell_type": "code",
   "execution_count": 20,
   "id": "67881875-4431-4b71-99f7-bea75c5a1fff",
   "metadata": {},
   "outputs": [
    {
     "name": "stdout",
     "output_type": "stream",
     "text": [
      "('SK', 'ON')\n"
     ]
    }
   ],
   "source": [
    "print(states)"
   ]
  },
  {
   "cell_type": "code",
   "execution_count": 23,
   "id": "e4c32060-1608-453c-9792-733f459e015f",
   "metadata": {},
   "outputs": [],
   "source": [
    "states = [\"SK\", \"ON\"]"
   ]
  },
  {
   "cell_type": "code",
   "execution_count": 24,
   "id": "80f74aa0-6865-43fe-8c1f-9dd7fcdb6a1b",
   "metadata": {},
   "outputs": [
    {
     "name": "stdout",
     "output_type": "stream",
     "text": [
      "['SK', 'ON']\n"
     ]
    }
   ],
   "source": [
    "print(states)"
   ]
  },
  {
   "cell_type": "code",
   "execution_count": 21,
   "id": "f8e7750d-9166-420f-9758-a6feaba7a31b",
   "metadata": {},
   "outputs": [],
   "source": [
    "states= 'QC', 'SK'"
   ]
  },
  {
   "cell_type": "code",
   "execution_count": 22,
   "id": "ce8021d8-61ef-4f2c-a9fe-adee6a6f2475",
   "metadata": {},
   "outputs": [
    {
     "name": "stdout",
     "output_type": "stream",
     "text": [
      "('QC', 'SK')\n"
     ]
    }
   ],
   "source": [
    "print(states)"
   ]
  },
  {
   "cell_type": "code",
   "execution_count": 25,
   "id": "82921539-12ee-43b6-a35d-56d138268266",
   "metadata": {},
   "outputs": [],
   "source": [
    "name=\"Alex\"\n",
    "__age = 35\n",
    "_list_of_states = [\"Kentucky\",\"New Jersey\"]"
   ]
  },
  {
   "cell_type": "code",
   "execution_count": 27,
   "id": "71f890c9-1097-410c-b035-2b84da8a8aa7",
   "metadata": {},
   "outputs": [
    {
     "name": "stdout",
     "output_type": "stream",
     "text": [
      "5\n"
     ]
    }
   ],
   "source": [
    "thisisavalidvariablenamealthoughitisverylong=5\n",
    "print(thisisavalidvariablenamealthoughitisverylong)"
   ]
  },
  {
   "cell_type": "code",
   "execution_count": 28,
   "id": "beb0a344-ff60-48e8-a30d-66ec46ae732e",
   "metadata": {},
   "outputs": [
    {
     "name": "stdin",
     "output_type": "stream",
     "text": [
      "Please enter your name. hafsa\n"
     ]
    },
    {
     "data": {
      "text/plain": [
       "'hafsa'"
      ]
     },
     "execution_count": 28,
     "metadata": {},
     "output_type": "execute_result"
    }
   ],
   "source": [
    "input(\"Please enter your name.\")"
   ]
  },
  {
   "cell_type": "code",
   "execution_count": 29,
   "id": "e0e563c5-e4d7-4e3e-af82-1cb5da0242c3",
   "metadata": {},
   "outputs": [
    {
     "name": "stdin",
     "output_type": "stream",
     "text": [
      "Enter your name Hafsa\n",
      "Enter three states SK\n"
     ]
    },
    {
     "data": {
      "text/plain": [
       "'SK'"
      ]
     },
     "execution_count": 29,
     "metadata": {},
     "output_type": "execute_result"
    }
   ],
   "source": [
    "input('Enter your name')\n",
    "input('Enter three states')"
   ]
  },
  {
   "cell_type": "code",
   "execution_count": 37,
   "id": "b929a42a-66bf-4a31-9dfb-0c0236bcb3d2",
   "metadata": {},
   "outputs": [
    {
     "name": "stdin",
     "output_type": "stream",
     "text": [
      "Enter your first name hafsa\n",
      "Enter you last Name degmaster\n"
     ]
    },
    {
     "name": "stdout",
     "output_type": "stream",
     "text": [
      " \n",
      "Name: hafsa degmaster\n",
      "\n"
     ]
    }
   ],
   "source": [
    "firstName = input('Enter your first name')\n",
    "lastName = input('Enter you last Name')\n",
    "print(f\"\"\" \n",
    "Name: {firstName} {lastName}\n",
    "\"\"\")"
   ]
  },
  {
   "cell_type": "code",
   "execution_count": 36,
   "id": "d57acb03-dacd-4cfe-8ac4-d081d208816b",
   "metadata": {},
   "outputs": [
    {
     "name": "stdout",
     "output_type": "stream",
     "text": [
      "Python is fun!\n"
     ]
    }
   ],
   "source": [
    "# Display the text in quotation marks to an output block \n",
    "# without moving any of the existing code to a different line\n",
    "print \\\n",
    "(\"Python is fun!\")"
   ]
  },
  {
   "cell_type": "markdown",
   "id": "6a4c476e-5bb2-4a1b-b235-79fcaefdf757",
   "metadata": {},
   "source": [
    "fname, lname = input('Enter name').split(\",\")\n",
    "print(f'''Name: {fname}, lname: {lname}''')"
   ]
  },
  {
   "cell_type": "markdown",
   "id": "65d5dc0d-0b43-441a-91bc-2bea82410f52",
   "metadata": {
    "tags": []
   },
   "source": [
    "# Add a new line of code that displays the text in quotation marks \n",
    "# to an output block without repeating the text in quotation marks.\n",
    "output = \"I love Python!\"\n",
    " \n",
    "# your code below this line"
   ]
  },
  {
   "cell_type": "code",
   "execution_count": 43,
   "id": "6a7c3cd8-5f67-4b30-bbd0-3ac9d5c8f540",
   "metadata": {},
   "outputs": [
    {
     "name": "stdout",
     "output_type": "stream",
     "text": [
      "I love Python!\n"
     ]
    }
   ],
   "source": [
    "# Add a new line of code that displays the text in quotation marks \n",
    "# to an output block without repeating the text in quotation marks.\n",
    "output = \"I love Python!\"\n",
    "\n",
    "# your code below this line\n",
    "print(output)\n"
   ]
  },
  {
   "cell_type": "code",
   "execution_count": 48,
   "id": "9a1044ec-3ccd-4030-8ee5-1deb89d332bb",
   "metadata": {},
   "outputs": [
    {
     "name": "stdout",
     "output_type": "stream",
     "text": [
      "Python is fun!\n"
     ]
    }
   ],
   "source": [
    "print(\"Python is fun!\")\n",
    "#print(\"Python is also easy!\")\n"
   ]
  },
  {
   "cell_type": "code",
   "execution_count": 50,
   "id": "d8e245d1-b5bb-427a-9fa7-a5b175502be5",
   "metadata": {},
   "outputs": [
    {
     "name": "stdout",
     "output_type": "stream",
     "text": [
      "Python\n"
     ]
    }
   ],
   "source": [
    "print \\\n",
    "(\"Python\")\n"
   ]
  },
  {
   "cell_type": "code",
   "execution_count": 52,
   "id": "0cba5172-c731-4b7e-9602-19901f5cff8f",
   "metadata": {},
   "outputs": [
    {
     "name": "stdout",
     "output_type": "stream",
     "text": [
      "Python!\n"
     ]
    }
   ],
   "source": [
    "print \\\n",
    "(\"Python!\")"
   ]
  },
  {
   "cell_type": "code",
   "execution_count": null,
   "id": "baef7885-cdbb-4351-998d-3d0ee9fb6103",
   "metadata": {},
   "outputs": [],
   "source": []
  }
 ],
 "metadata": {
  "kernelspec": {
   "display_name": "Python 3 (ipykernel)",
   "language": "python",
   "name": "python3"
  },
  "language_info": {
   "codemirror_mode": {
    "name": "ipython",
    "version": 3
   },
   "file_extension": ".py",
   "mimetype": "text/x-python",
   "name": "python",
   "nbconvert_exporter": "python",
   "pygments_lexer": "ipython3",
   "version": "3.9.12"
  }
 },
 "nbformat": 4,
 "nbformat_minor": 5
}
