{
 "cells": [
  {
   "cell_type": "markdown",
   "id": "cdb620bc-795d-46f8-8bcb-f7f67ee89adc",
   "metadata": {},
   "source": [
    "#### Write a program that performs the following steps:\n",
    "\n",
    "1. Ask the user for a number.\n",
    "2. Output a count starting with 0.\n",
    "    - Display the count number if it is not divisible by 3 or 5.\n",
    "    - Replace every multiple of 3 with the word \"fizz.\"\n",
    "    - Replace every multiple of 5 with the word \"buzz.\"\n",
    "    - Replace multiples of both 3 and 5 with \"fizz buzz.\"\n",
    "3. Continue counting until the number of integers replaced with \"fizz,\" \"buzz,\" or \"fizz buzz\" reaches the input number.\n",
    "4. The last output line should read \"TRADITION!!\"\n"
   ]
  },
  {
   "cell_type": "code",
   "execution_count": 21,
   "id": "6b8bcb42-0bc9-4f8a-a032-e8112d476288",
   "metadata": {},
   "outputs": [
    {
     "name": "stdin",
     "output_type": "stream",
     "text": [
      "How many fizzing and buzzing units do you need in your life?  7\n"
     ]
    },
    {
     "name": "stdout",
     "output_type": "stream",
     "text": [
      "0\n",
      "1\n",
      "2\n",
      "fizz\n",
      "4\n",
      "buzz\n",
      "fizz\n",
      "7\n",
      "8\n",
      "fizz\n",
      "buzz\n",
      "11\n",
      "fizz\n",
      "13\n",
      "14\n",
      "fizz buzz\n",
      "Tradition!!\n"
     ]
    }
   ],
   "source": [
    "number = int(input('How many fizzing and buzzing units do you need in your life? '))\n",
    "count = 0\n",
    "fizz_buzz_count = 0\n",
    "\n",
    "while fizz_buzz_count <= number:\n",
    "    if(count % 3 == 0 and count % 5 == 0 and count != 0):\n",
    "        print('fizz buzz')\n",
    "        fizz_buzz_count+=1\n",
    "    elif(count % 3 == 0 and count != 0):\n",
    "        print('fizz')\n",
    "        fizz_buzz_count+=1\n",
    "    elif(count % 5 == 0 and count != 0):\n",
    "        print('buzz')\n",
    "        fizz_buzz_count+=1\n",
    "    else:\n",
    "        print(count)\n",
    "    count+=1\n",
    "    \n",
    "    if fizz_buzz_count == number:\n",
    "        print('Tradition!!')\n",
    "        break"
   ]
  },
  {
   "cell_type": "code",
   "execution_count": null,
   "id": "a51225bc-2c23-4dc3-8baf-7342785df475",
   "metadata": {},
   "outputs": [],
   "source": []
  }
 ],
 "metadata": {
  "kernelspec": {
   "display_name": "Python 3 (ipykernel)",
   "language": "python",
   "name": "python3"
  },
  "language_info": {
   "codemirror_mode": {
    "name": "ipython",
    "version": 3
   },
   "file_extension": ".py",
   "mimetype": "text/x-python",
   "name": "python",
   "nbconvert_exporter": "python",
   "pygments_lexer": "ipython3",
   "version": "3.9.12"
  }
 },
 "nbformat": 4,
 "nbformat_minor": 5
}
