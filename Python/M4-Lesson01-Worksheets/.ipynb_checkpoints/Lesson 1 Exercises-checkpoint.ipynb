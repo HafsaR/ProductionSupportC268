{
 "cells": [
  {
   "cell_type": "markdown",
   "metadata": {},
   "source": [
    "# Lesson 1 Activities: DateTime\n",
    "The exercises on this page will allow you to demonstrate your ability to:\n",
    "* Define a value as a date or as a time.\n",
    "* Split a `datetime` value into individual values, such as year, month, day, and hour.\n",
    "* Use time and date values in a variety of operations."
   ]
  },
  {
   "cell_type": "markdown",
   "metadata": {},
   "source": [
    "## Activity 1\n",
    "Write a program to display the following: \n",
    "\n",
    "* Current date and time \n",
    "* Current year \n",
    "* Current month\n",
    "* Week number of the year \n",
    "* Weekday of the week \n",
    "* Day of the year \n",
    "* Day of the month \n",
    "* Day of the week "
   ]
  },
  {
   "cell_type": "code",
   "execution_count": 31,
   "metadata": {},
   "outputs": [
    {
     "name": "stdout",
     "output_type": "stream",
     "text": [
      "Current date time: 2022-10-13 09:49:48.714351\n",
      "current year: 2022\n",
      " current month: 10\n",
      "Week number of the year: 41\n",
      "Weekday of the week: 3\n",
      "Day of the year: 286\n"
     ]
    }
   ],
   "source": [
    "# your code here\n",
    "import datetime\n",
    "\n",
    "current_date_time = datetime.datetime.today()\n",
    "print(f'Current date time: {current_date_time}')\n",
    "\n",
    "\n",
    "current_year = datetime.datetime.now().year\n",
    "print(f'current year: {current_year}\\n current month: {current_date_time.month}')\n",
    "\n",
    "print(f'Week number of the year: {datetime.datetime.today().strftime(\"%U\")}')\n",
    "\n",
    "print(f'Weekday of the week: {datetime.datetime.today().weekday()}')\n",
    "\n",
    "\n",
    "print(f'Day of the year: {datetime.datetime.today().strftime(\"%j\")}')\n"
   ]
  },
  {
   "cell_type": "markdown",
   "metadata": {},
   "source": [
    "## Activity 2 \n",
    "\n",
    "Write a function that prompts the user for a year and checks if it is a leap year. The function should return `True` if the input is a leap year and `False` otherwise. \n",
    "\n",
    "Make sure to test your code with various inputs. "
   ]
  },
  {
   "cell_type": "code",
   "execution_count": 32,
   "metadata": {},
   "outputs": [
    {
     "name": "stdin",
     "output_type": "stream",
     "text": [
      "Enter a year:  2000\n"
     ]
    },
    {
     "name": "stdout",
     "output_type": "stream",
     "text": [
      "2000\n"
     ]
    }
   ],
   "source": [
    "# your code here\n",
    "year = int(input('Enter a year: '))\n",
    "print(year)"
   ]
  },
  {
   "cell_type": "markdown",
   "metadata": {},
   "source": [
    "## Activity 3 \n",
    "\n",
    "Write a function that prompts the user for a date (or uses the current date if the user does not input a date) and subtracts five days from that date. The function should return the new date.\n",
    "\n",
    "Display the result to the user. "
   ]
  },
  {
   "cell_type": "code",
   "execution_count": null,
   "metadata": {},
   "outputs": [],
   "source": [
    "# your code here\n",
    "\n"
   ]
  },
  {
   "cell_type": "markdown",
   "metadata": {},
   "source": [
    "## Activity 4 \n",
    "\n",
    "Write a program that converts a Unix timestamp string to a human-readable date. "
   ]
  },
  {
   "cell_type": "code",
   "execution_count": null,
   "metadata": {},
   "outputs": [],
   "source": [
    "# your code here"
   ]
  },
  {
   "cell_type": "markdown",
   "metadata": {},
   "source": [
    "## Activity 5 \n",
    "\n",
    "Write a program that prints the dates for yesterday, today, and tomorrow. "
   ]
  },
  {
   "cell_type": "code",
   "execution_count": null,
   "metadata": {},
   "outputs": [],
   "source": [
    "# your code here"
   ]
  },
  {
   "cell_type": "markdown",
   "metadata": {},
   "source": [
    "## Activity 6 \n",
    "\n",
    "Write a program that prints the date for the next five days, starting from today. "
   ]
  },
  {
   "cell_type": "code",
   "execution_count": null,
   "metadata": {},
   "outputs": [],
   "source": [
    "# your code here"
   ]
  },
  {
   "cell_type": "markdown",
   "metadata": {},
   "source": [
    "## Activity 7 \n",
    "\n",
    "Write a program that adds five seconds to the current time and displays the result. "
   ]
  },
  {
   "cell_type": "code",
   "execution_count": null,
   "metadata": {},
   "outputs": [],
   "source": [
    "# your code here"
   ]
  },
  {
   "cell_type": "markdown",
   "metadata": {},
   "source": [
    "## Activity 8 \n",
    "\n",
    "Write a program that prompts the user for two different dates, computes the number of days between those dates, and displays the results. \n",
    "\n",
    "The order in which the user enters the dates should not affect the results. "
   ]
  },
  {
   "cell_type": "code",
   "execution_count": 1,
   "metadata": {},
   "outputs": [],
   "source": [
    "# your code here"
   ]
  }
 ],
 "metadata": {
  "kernelspec": {
   "display_name": "Python 3 (ipykernel)",
   "language": "python",
   "name": "python3"
  },
  "language_info": {
   "codemirror_mode": {
    "name": "ipython",
    "version": 3
   },
   "file_extension": ".py",
   "mimetype": "text/x-python",
   "name": "python",
   "nbconvert_exporter": "python",
   "pygments_lexer": "ipython3",
   "version": "3.9.12"
  }
 },
 "nbformat": 4,
 "nbformat_minor": 4
}
