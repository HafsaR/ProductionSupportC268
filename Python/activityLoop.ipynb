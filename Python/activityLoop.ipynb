{
 "cells": [
  {
   "cell_type": "markdown",
   "id": "b9c38c7e-cbb2-4cf3-bf1c-ce42cd03f371",
   "metadata": {},
   "source": [
    "#### Activity 4: Create a program that starts with a list of strings, identifies all the strings with more than two characters, stores the results in another list, and displays the new list.  \n",
    "a = [\"a\", \"bc\", \"rye\", \"hello\", \"c\", \"\"]  \n",
    "Output:\n",
    "\n",
    "[\"rye\", \"hello\"]\n"
   ]
  },
  {
   "cell_type": "code",
   "execution_count": 1,
   "id": "4c073a11-44b8-4e3a-9418-fa6d46a9d4d5",
   "metadata": {},
   "outputs": [
    {
     "name": "stdout",
     "output_type": "stream",
     "text": [
      "['rye', 'hello']\n"
     ]
    }
   ],
   "source": [
    "a = [\"a\", \"bc\", \"rye\", \"hello\", \"c\", \"\"]\n",
    "b = list()\n",
    "\n",
    "for i in a:\n",
    "    if len(i) > 2:\n",
    "        b.append(i)\n",
    "print(b)\n",
    "\n"
   ]
  },
  {
   "cell_type": "markdown",
   "id": "77db6867-f82a-4c7a-8feb-f79e1c949ef9",
   "metadata": {},
   "source": [
    "#### Activity 6  \n",
    "Create a script that computes the sum of all numbers between 0 and 100."
   ]
  },
  {
   "cell_type": "code",
   "execution_count": 2,
   "id": "84049122-8b47-4225-a0dd-5da136eb31b7",
   "metadata": {},
   "outputs": [
    {
     "name": "stdout",
     "output_type": "stream",
     "text": [
      "sum: 5050\n"
     ]
    }
   ],
   "source": [
    "sum = 0\n",
    "for i in range(0, 101):\n",
    "    sum+=i\n",
    "print(f'sum: {sum}')"
   ]
  },
  {
   "cell_type": "markdown",
   "id": "e5d52069-7f31-4544-9d3c-ab40b524ad22",
   "metadata": {},
   "source": [
    "#### Activity 7\n",
    "Create a script that computes the factorial of any given number."
   ]
  },
  {
   "cell_type": "code",
   "execution_count": 3,
   "id": "f39ff72d-653d-40c2-aa8d-71766edc3f86",
   "metadata": {},
   "outputs": [
    {
     "name": "stdin",
     "output_type": "stream",
     "text": [
      "Enter a number for calculation:  5\n"
     ]
    },
    {
     "name": "stdout",
     "output_type": "stream",
     "text": [
      "120\n"
     ]
    }
   ],
   "source": [
    "mul = 1\n",
    "try:\n",
    "    number = int(input('Enter a number for calculation: '))\n",
    "    while(number >= 1):\n",
    "        mul = mul * number\n",
    "        number-=1\n",
    "    print(mul)\n",
    "except:\n",
    "\n",
    "    print('Not a number')"
   ]
  },
  {
   "cell_type": "markdown",
   "id": "df3d6ad4-aa46-4983-93a8-37e926bc78dc",
   "metadata": {},
   "source": [
    "#### Activity 8\n",
    "Starting with the defined fruit_list in the code block below, update the script to perform the following tasks.\n",
    "\n",
    "1. Prompt the user to enter the name of a fruit.\n",
    "2. If the fruit is in fruit_list, display an appropriate message to the user and tell the user its index value in the list.\n",
    "3. If the fruit is not in fruit_list, display an appropriate message to the user and prompt them to try again.\n",
    "4. The script should repeat itself until the user enters a stop word at the prompt.  \n",
    "\n",
    "Tip: It's always a good idea to tell the user how to end a loop!"
   ]
  },
  {
   "cell_type": "code",
   "execution_count": 6,
   "id": "842cc28f-72b4-4cb3-b110-87a6de457186",
   "metadata": {},
   "outputs": [
    {
     "name": "stdin",
     "output_type": "stream",
     "text": [
      "Enter fruit name:  apple\n"
     ]
    },
    {
     "name": "stdout",
     "output_type": "stream",
     "text": [
      "Fruit is in the list and it is at index 0\n"
     ]
    },
    {
     "name": "stdin",
     "output_type": "stream",
     "text": [
      "Enter fruit name:  banana\n"
     ]
    },
    {
     "name": "stdout",
     "output_type": "stream",
     "text": [
      "Fruit is in the list and it is at index 1\n"
     ]
    },
    {
     "name": "stdin",
     "output_type": "stream",
     "text": [
      "Enter fruit name:  cherry\n"
     ]
    },
    {
     "name": "stdout",
     "output_type": "stream",
     "text": [
      "Fruit is in the list and it is at index 2\n"
     ]
    },
    {
     "name": "stdin",
     "output_type": "stream",
     "text": [
      "Enter fruit name:  kjbkj\n"
     ]
    },
    {
     "name": "stdout",
     "output_type": "stream",
     "text": [
      "Fruit is not in the list. Try again!\n"
     ]
    },
    {
     "name": "stdin",
     "output_type": "stream",
     "text": [
      "Enter fruit name:  stop\n"
     ]
    },
    {
     "name": "stdout",
     "output_type": "stream",
     "text": [
      "Fruit is not in the list. Try again!\n"
     ]
    }
   ],
   "source": [
    "fruit_list = [\"apple\", \"banana\", \"cherry\", \"gooseberry\",\n",
    "\"kumquat\", \"orange\", \"pineapple\"]\n",
    " \n",
    "# your code here\n",
    "fruit_name = None\n",
    "while (fruit_name != 'stop'):\n",
    "    fruit_name = input('Enter fruit name: ').lower()\n",
    "    if (fruit_name in fruit_list):\n",
    "        print(f'Fruit is in the list and it is at index {fruit_list.index(fruit_name)}')\n",
    "    else:\n",
    "        print('Fruit is not in the list. Try again!')\n"
   ]
  },
  {
   "cell_type": "markdown",
   "id": "0c8b13d8-bd97-4252-ab52-b66e0c8d9315",
   "metadata": {
    "tags": []
   },
   "source": []
  },
  {
   "cell_type": "code",
   "execution_count": null,
   "id": "52cc839d-7cb9-4a1a-8608-9a9f1f57b44f",
   "metadata": {},
   "outputs": [],
   "source": [
    "    "
   ]
  }
 ],
 "metadata": {
  "kernelspec": {
   "display_name": "Python 3 (ipykernel)",
   "language": "python",
   "name": "python3"
  },
  "language_info": {
   "codemirror_mode": {
    "name": "ipython",
    "version": 3
   },
   "file_extension": ".py",
   "mimetype": "text/x-python",
   "name": "python",
   "nbconvert_exporter": "python",
   "pygments_lexer": "ipython3",
   "version": "3.9.12"
  }
 },
 "nbformat": 4,
 "nbformat_minor": 5
}
