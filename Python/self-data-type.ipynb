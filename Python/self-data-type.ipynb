{
 "cells": [
  {
   "cell_type": "markdown",
   "id": "0e98491d-8b57-4c13-ba35-b65af12cc96e",
   "metadata": {},
   "source": [
    "#### Collect the following individual pieces of data from the user:\n",
    "First name  \n",
    "Last name  \n",
    "City where they live  \n",
    "Their hourly wage  \n",
    "The number of hours they work each week"
   ]
  },
  {
   "cell_type": "code",
   "execution_count": 1,
   "id": "37b255c1-d21a-4281-b16b-b2fb360d5c3f",
   "metadata": {},
   "outputs": [
    {
     "name": "stdin",
     "output_type": "stream",
     "text": [
      "Enter your first name Hafsa\n",
      "Enter your last name Degmaster\n",
      "Enter city Regina\n",
      "Hourly wage:  15\n",
      "Enter number of hours they work each week 40\n"
     ]
    }
   ],
   "source": [
    "first_name = input('Enter your first name')\n",
    "last_name = input('Enter your last name')\n",
    "city = input('Enter city')\n",
    "hourly_wage = int(input('Hourly wage: '))\n",
    "num_of_hour_week = int(input('Enter number of hours they work each week'))\n"
   ]
  },
  {
   "cell_type": "code",
   "execution_count": 2,
   "id": "f41aa0ef-a489-4bdb-9052-09305ff913d4",
   "metadata": {},
   "outputs": [
    {
     "name": "stdout",
     "output_type": "stream",
     "text": [
      " Hi, Hafsa Degmaster How are you?  \n",
      "I hope the weather is nice in Regina.  \n",
      "Based on the information you provided, you earn 15 dollars per week,\n",
      "approximately 2400 dollars per month, and dollars per year. \n"
     ]
    }
   ],
   "source": [
    "print(f\"\"\" Hi, {first_name} {last_name} How are you?  \n",
    "I hope the weather is nice in {city}.  \n",
    "Based on the information you provided, you earn {hourly_wage} dollars per week,\n",
    "approximately {hourly_wage * num_of_hour_week * 4} dollars per month, and dollars per year. \"\"\")"
   ]
  },
  {
   "cell_type": "code",
   "execution_count": null,
   "id": "03bfdc2d-9dfd-4fb4-ae75-c65987169ff9",
   "metadata": {},
   "outputs": [],
   "source": []
  }
 ],
 "metadata": {
  "kernelspec": {
   "display_name": "Python 3 (ipykernel)",
   "language": "python",
   "name": "python3"
  },
  "language_info": {
   "codemirror_mode": {
    "name": "ipython",
    "version": 3
   },
   "file_extension": ".py",
   "mimetype": "text/x-python",
   "name": "python",
   "nbconvert_exporter": "python",
   "pygments_lexer": "ipython3",
   "version": "3.9.12"
  }
 },
 "nbformat": 4,
 "nbformat_minor": 5
}
