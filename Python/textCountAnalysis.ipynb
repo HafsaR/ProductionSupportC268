{
 "cells": [
  {
   "cell_type": "code",
   "execution_count": 6,
   "id": "04ff56bc-b399-487e-b4ca-181b755ce297",
   "metadata": {},
   "outputs": [
    {
     "name": "stdout",
     "output_type": "stream",
     "text": [
      "s_lower: imagine a vast sheet of paper on which straight lines, triangles, squares, pentagons, hexagons, and other figures, instead of remaining fixed in their places, move freely about, on or in the surface, but without the power of rising above or sinking below it, very much like shadows - only hard and with luminous edges - and you will then have a pretty correct notion of my country and countrymen. alas, a few years ago, i should have said \"my universe\": but now my mind has been opened to higher views of things.\n",
      "\n",
      "['imagine', 'a', 'vast', 'sheet', 'of', 'paper', 'on', 'which', 'straight', 'lines,', 'triangles,', 'squares,', 'pentagons,', 'hexagons,', 'and', 'other', 'figures,', 'instead', 'of', 'remaining', 'fixed', 'in', 'their', 'places,', 'move', 'freely', 'about,', 'on', 'or', 'in', 'the', 'surface,', 'but', 'without', 'the', 'power', 'of', 'rising', 'above', 'or', 'sinking', 'below', 'it,', 'very', 'much', 'like', 'shadows', '-', 'only', 'hard', 'and', 'with', 'luminous', 'edges', '-', 'and', 'you', 'will', 'then', 'have', 'a', 'pretty', 'correct', 'notion', 'of', 'my', 'country', 'and', 'countrymen.', 'alas,', 'a', 'few', 'years', 'ago,', 'i', 'should', 'have', 'said', '\"my', 'universe\":', 'but', 'now', 'my', 'mind', 'has', 'been', 'opened', 'to', 'higher', 'views', 'of', 'things.']\n",
      "\n",
      "words length: 92\n",
      "\n",
      "Distinct words: 75\n",
      "\n",
      " word_freq: \n",
      " {'imagine': 1, 'a': 3, 'vast': 1, 'sheet': 1, 'of': 5, 'paper': 1, 'on': 2, 'which': 1, 'straight': 1, 'lines,': 1, 'triangles,': 1, 'squares,': 1, 'pentagons,': 1, 'hexagons,': 1, 'and': 4, 'other': 1, 'figures,': 1, 'instead': 1, 'remaining': 1, 'fixed': 1, 'in': 2, 'their': 1, 'places,': 1, 'move': 1, 'freely': 1, 'about,': 1, 'or': 2, 'the': 2, 'surface,': 1, 'but': 2, 'without': 1, 'power': 1, 'rising': 1, 'above': 1, 'sinking': 1, 'below': 1, 'it,': 1, 'very': 1, 'much': 1, 'like': 1, 'shadows': 1, '-': 2, 'only': 1, 'hard': 1, 'with': 1, 'luminous': 1, 'edges': 1, 'you': 1, 'will': 1, 'then': 1, 'have': 2, 'pretty': 1, 'correct': 1, 'notion': 1, 'my': 2, 'country': 1, 'countrymen.': 1, 'alas,': 1, 'few': 1, 'years': 1, 'ago,': 1, 'i': 1, 'should': 1, 'said': 1, '\"my': 1, 'universe\":': 1, 'now': 1, 'mind': 1, 'has': 1, 'been': 1, 'opened': 1, 'to': 1, 'higher': 1, 'views': 1, 'things.': 1}\n",
      "\n",
      "['imagine', 'a', 'vast', 'sheet', 'of', 'paper', 'on', 'which', 'straight', 'lines,', 'triangles,', 'squares,', 'pentagons,', 'hexagons,', 'and', 'other', 'figures,', 'instead', 'of', 'remaining', 'fixed', 'in', 'their', 'places,', 'move', 'freely', 'about,', 'on', 'or', 'in', 'the', 'surface,', 'but', 'without', 'the', 'power', 'of', 'rising', 'above', 'or', 'sinking', 'below', 'it,', 'very', 'much', 'like', 'shadows', 'only', 'hard', 'and', 'with', 'luminous', 'edges', 'and', 'you', 'will', 'then', 'have', 'a', 'pretty', 'correct', 'notion', 'of', 'my', 'country', 'and', 'countrymen.', 'alas,', 'a', 'few', 'years', 'ago,', 'i', 'should', 'have', 'said', '\"my', 'universe\":', 'but', 'now', 'my', 'mind', 'has', 'been', 'opened', 'to', 'higher', 'views', 'of', 'things.']\n",
      "90\n"
     ]
    }
   ],
   "source": [
    "import string\n",
    "s = \"\"\"Imagine a vast sheet of paper on which straight Lines, Triangles, Squares, Pentagons, Hexagons, and other figures, instead of remaining fixed in their places, move freely about, on or in the surface, but without the power of rising above or sinking below it, very much like shadows - only hard and with luminous edges - and you will then have a pretty correct notion of my country and countrymen. Alas, a few years ago, I should have said \"my universe\": but now my mind has been opened to higher views of things.\"\"\"\n",
    "# step1\n",
    "s_lower = s.lower() \n",
    "print(f's_lower: {s_lower}')\n",
    "\n",
    "# step 2\n",
    "words = s_lower.split(' ')\n",
    "print(f'\\n{words}')\n",
    "\n",
    "#step 3\n",
    "words_len = len(words)\n",
    "print(f'\\nwords length: {words_len}')\n",
    "\n",
    "#step 4\n",
    "unique_words = set(words)\n",
    "print(f'\\nDistinct words: {len(unique_words)}')\n",
    "\n",
    "#step 5\n",
    "word_freq = dict()\n",
    " \n",
    "for w in words:\n",
    "    if w in word_freq.keys():\n",
    "        word_freq[w] += 1\n",
    "    else:\n",
    "        word_freq[w] = 1\n",
    "        \n",
    "print(f'\\n word_freq: \\n {word_freq}')\n",
    "\n",
    "# step 6 remove punctuation\n",
    "punctuation_list = list(string.punctuation)\n",
    "w_clean = list()\n",
    "\n",
    "for w in words:\n",
    "    if(w not in punctuation_list and w != ''):\n",
    "        w_clean.append(w)\n",
    "print(f'\\n{w_clean}')\n",
    "print(len(w_clean))"
   ]
  },
  {
   "cell_type": "markdown",
   "id": "32ba021c-2ea6-4450-af4d-7fa6c0b96a0f",
   "metadata": {},
   "source": [
    "#### step5 practice\n"
   ]
  },
  {
   "cell_type": "code",
   "execution_count": 2,
   "id": "0e95e0ca-623d-411d-9f79-609beba2c230",
   "metadata": {},
   "outputs": [
    {
     "name": "stdout",
     "output_type": "stream",
     "text": [
      "{'haythem': 2, 'is': 1, 'eating': 1, 'tacos.': 1, 'loves': 1, 'tacos': 1, '': 1, ':': 1}\n"
     ]
    }
   ],
   "source": [
    "#we define w as a list of words \n",
    "w = [\"haythem\",\"is\",\"eating\",\"tacos.\",\"haythem\",\"loves\",\"tacos\",\"\",\":\"]\n",
    " \n",
    "#we define an empty dictionary that will hold the token/frequency key-value pair\n",
    "#  key:word, value:int that corresponds to the frequency of occurrence\n",
    "freq_occur = dict()\n",
    " \n",
    "#your code goes here\n",
    " \n",
    "for word in w:\n",
    "    #print(f'{word}')\n",
    "    if word in freq_occur.keys():\n",
    "        freq_occur[word] = freq_occur[word] + 1\n",
    "    else: \n",
    "        freq_occur[word] = 1\n",
    "print(freq_occur)"
   ]
  },
  {
   "cell_type": "markdown",
   "id": "b333df74-03b9-4bad-a903-ac86f2276836",
   "metadata": {},
   "source": [
    "#### step 6 \n",
    "To fix the problems caused by punctuation, we need to remove the punctuation marks from the items in the list.\n",
    "\n",
    "Again, as a practice activity, we will start with the same list w from the previous exercise. The existing code performs the following steps:\n",
    "\n",
    "We import the Python string module, which includes all punctuation characters.\n",
    "We generate a list of punctuation characters from string.punctuation and print the list to verify that it includes the characters we want to exclude from our results.\n",
    "We define the list we want to start with.\n",
    "We create a new empty w_clean list that will hold the words after we have removed punctuation from each item in w.\n",
    "Complete this script so that it looks at each item in w and performs the following tasks:\n",
    "\n",
    "If the item is empty, ignore it.\n",
    "If the item includes only a punctuation mark, ignore it.\n",
    "If the item includes a punctuation mark as the first character or as the last character, remove that character from the word and add the cleaned word to w_clean.\n",
    "If it does not include punctuation, add it to the list w_clean as a separate token.\n",
    "The final version of w_clean should include seven items:\n",
    "\n",
    "['haythem', 'is', 'eating', 'tacos', 'haythem', 'loves', 'tacos']"
   ]
  },
  {
   "cell_type": "code",
   "execution_count": 3,
   "id": "024a3e98-1d86-4583-a999-56fb4fe948f8",
   "metadata": {},
   "outputs": [
    {
     "name": "stdout",
     "output_type": "stream",
     "text": [
      "['!', '\"', '#', '$', '%', '&', \"'\", '(', ')', '*', '+', ',', '-', '.', '/', ':', ';', '<', '=', '>', '?', '@', '[', '\\\\', ']', '^', '_', '`', '{', '|', '}', '~']\n",
      "['haythem', 'is', 'eating', 'tacos', 'haythem', 'loves', 'tacos']\n",
      "7\n"
     ]
    }
   ],
   "source": [
    "import string #import the string module \n",
    "#use the built-in string.punctuation method to create a list of all punctuation marks\n",
    "punctuation_list =  list(string.punctuation)\n",
    "#display the punctuation_list\n",
    "print(punctuation_list)\n",
    " \n",
    "w = [\"haythem!\",\"is\",\"eating\",\"tacos.\",\".haythem\",\"loves\",\"tacos\",\"\",\":\"]\n",
    "w_clean = list()\n",
    "#do not change the code above this line.\n",
    " \n",
    "#your code goes here \n",
    "for i in w:\n",
    "    #a =any(p in i for p in punctuation_list)\n",
    "    if i not in punctuation_list and i != '':\n",
    "        a = i.translate(str.maketrans('', '', string.punctuation))\n",
    "        w_clean.append(a)\n",
    "    \n",
    "print(w_clean)\n",
    "print(len(w_clean))"
   ]
  },
  {
   "cell_type": "markdown",
   "id": "bd79db02-11cc-497b-b372-db0bd396e7d8",
   "metadata": {},
   "source": [
    "#### remove punctuation from s"
   ]
  },
  {
   "cell_type": "code",
   "execution_count": 4,
   "id": "4b688ef4-5650-4f25-8cfb-55a26c53c738",
   "metadata": {},
   "outputs": [
    {
     "name": "stdout",
     "output_type": "stream",
     "text": [
      "['!', '\"', '#', '$', '%', '&', \"'\", '(', ')', '*', '+', ',', '-', '.', '/', ':', ';', '<', '=', '>', '?', '@', '[', '\\\\', ']', '^', '_', '`', '{', '|', '}', '~']\n",
      "['imagine', 'a', 'vast', 'sheet', 'of', 'paper', 'on', 'which', 'straight', 'lines,', 'triangles,', 'squares,', 'pentagons,', 'hexagons,', '\\nand', 'other', 'figures,', 'instead', 'of', 'remaining', 'fixed', 'in', 'their', 'places,', 'move', 'freely', 'about,', 'on', 'or', 'in', 'the', 'surface,', '\\nbut', 'without', 'the', 'power', 'of', 'rising', 'above', 'or', 'sinking', 'below', 'it,', 'very', 'much', 'like', 'shadows', '-', 'only', 'hard', 'and', 'with', 'l\\numinous', 'edges', '-', 'and', 'you', 'will', 'then', 'have', 'a', 'pretty', 'correct', 'notion', 'of', 'my', 'country', 'and', 'countrymen.', 'alas,', 'a', 'few', 'years', 'ago,', '\\ni', 'should', 'have', 'said', '\"my', 'universe\":', 'but', 'now', 'my', 'mind', 'has', 'been', 'opened', 'to', 'higher', 'views', 'of', 'things.']\n",
      "92\n",
      "77\n",
      "['imagine', 'a', 'vast', 'sheet', 'of', 'paper', 'on', 'which', 'straight', 'lines,', 'triangles,', 'squares,', 'pentagons,', 'hexagons,', '\\nand', 'other', 'figures,', 'instead', 'of', 'remaining', 'fixed', 'in', 'their', 'places,', 'move', 'freely', 'about,', 'on', 'or', 'in', 'the', 'surface,', '\\nbut', 'without', 'the', 'power', 'of', 'rising', 'above', 'or', 'sinking', 'below', 'it,', 'very', 'much', 'like', 'shadows', 'only', 'hard', 'and', 'with', 'l\\numinous', 'edges', 'and', 'you', 'will', 'then', 'have', 'a', 'pretty', 'correct', 'notion', 'of', 'my', 'country', 'and', 'countrymen.', 'alas,', 'a', 'few', 'years', 'ago,', '\\ni', 'should', 'have', 'said', '\"my', 'universe\":', 'but', 'now', 'my', 'mind', 'has', 'been', 'opened', 'to', 'higher', 'views', 'of', 'things.']\n",
      "90\n"
     ]
    }
   ],
   "source": [
    "import string\n",
    "\n",
    "punctuation_list = list(string.punctuation)\n",
    "print(punctuation_list)\n",
    "s = \"\"\"Imagine a vast sheet of paper on which straight Lines, Triangles, Squares, Pentagons, Hexagons, \n",
    "and other figures, instead of remaining fixed in their places, move freely about, on or in the surface, \n",
    "but without the power of rising above or sinking below it, very much like shadows - only hard and with l\n",
    "uminous edges - and you will then have a pretty correct notion of my country and countrymen. Alas, a few years ago, \n",
    "I should have said \"my universe\": but now my mind has been opened to higher views of things.\"\"\"\n",
    "\n",
    "words = s.lower().split(' ')\n",
    "print(words)\n",
    "print(len(words))\n",
    "\n",
    "words_clean = list()\n",
    "\n",
    "unique_words = set(words)\n",
    "print(len(unique_words))\n",
    "\n",
    "for w in words:\n",
    "    if (w not in punctuation_list and w != ''):\n",
    "        words_clean.append(w)\n",
    "print(words_clean)\n",
    "print(len(words_clean))\n",
    "\n",
    "    \n",
    " "
   ]
  },
  {
   "cell_type": "code",
   "execution_count": null,
   "id": "13bd88af-10c6-42e6-904e-dc202ca1b7a8",
   "metadata": {},
   "outputs": [],
   "source": []
  }
 ],
 "metadata": {
  "kernelspec": {
   "display_name": "Python 3 (ipykernel)",
   "language": "python",
   "name": "python3"
  },
  "language_info": {
   "codemirror_mode": {
    "name": "ipython",
    "version": 3
   },
   "file_extension": ".py",
   "mimetype": "text/x-python",
   "name": "python",
   "nbconvert_exporter": "python",
   "pygments_lexer": "ipython3",
   "version": "3.9.12"
  }
 },
 "nbformat": 4,
 "nbformat_minor": 5
}
