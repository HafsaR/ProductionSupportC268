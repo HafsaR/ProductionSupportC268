{
 "cells": [
  {
   "cell_type": "markdown",
   "id": "dad8159e-66ba-45f9-a5fb-96438fb8962f",
   "metadata": {},
   "source": [
    "#### Write a program that will calculate the cost of a custom cup of coffee at a gourmet coffee shop, based on the size of the cup, the type of coffee selected, and flavors that can be added to the coffee. It should complete the following steps:\n",
    "\n",
    "1. Ask the user what size cup they want, choosing between small, medium, and large.\n",
    "2. Ask the user what kind of coffee they want, choosing between brewed, espresso, and cold brew.\n",
    "3. Ask the user what flavoring they want, if any. Choices include hazelnut, vanilla, and caramel.\n",
    "4. Calculate the price of the cup using the following values:\n",
    "    - Size:\n",
    "       - small: $2    \n",
    "       - medium: $3  \n",
    "       - large: $4  \n",
    "    - Type:\n",
    "        - brewed: no additional cost\n",
    "        - espresso: 50 cents\n",
    "        - cold brew: $1\n",
    "    - Flavoring:\n",
    "        - None: no additional cost\n",
    "        - All other options: 50 cents\n",
    "5. Display a statement that summarizes what the user ordered.\n",
    "6. Display the total cost of the cup of coffee as well as the cost with a 15% tip, in phrases that explain the values to the user. Round the cost with tip to two decimal places.\n",
    "    - For example, if the user asks for a medium-sized espresso with hazelnut flavoring, the total should be $4  \n",
    "    - the total with a tip should be $4.60."
   ]
  },
  {
   "cell_type": "code",
   "execution_count": null,
   "id": "2e400df3-1596-44ad-986f-cfe61e149790",
   "metadata": {},
   "outputs": [],
   "source": [
    "# Hafsa Degmaster, Date: October 11, 2022\n",
    "import math\n",
    "\n",
    "cup_size = input('Do you want small, medium or large cup?').lower()\n",
    "if( cup_size not in ['small', 'medium', 'large']):\n",
    "    print('Please select a cup size')\n",
    "\n",
    "cofee_type = input('Do you want brewed, espresso, or cold press?').lower()\n",
    "flavour_syrup = input('Do you want a flavored syrup? (Yes or No)').lower()\n",
    "cost = 0\n",
    "\n",
    "if (flavour_syrup == 'yes'):\n",
    "    flavour_type = input('Do you want hazelnut, vanilla, or caramel?')\n",
    "    print(f\"You asked for a {cup_size} cup of {cofee_type} coffee with {flavour_type} flavour.\")\n",
    "else:\n",
    "    print(f\"You asked for a {cup_size} cup of {cofee_type} coffee.\")\n",
    "\n",
    "if(cup_size == 'small'):\n",
    "    cost+=2\n",
    "elif (cup_size == 'medium'):\n",
    "    cost += 3\n",
    "elif (cup_size == 'large'):\n",
    "    cost += 4\n",
    "else:\n",
    "    print('please select a cup size')\n",
    "    \n",
    "if(cofee_type == 'cold brew'):\n",
    "    cost += 1\n",
    "elif(cofee_type == 'espresso'):\n",
    "    cost += 0.50\n",
    "elif (cofee_type == 'brewed'):\n",
    "    cost += 0\n",
    "else:\n",
    "    print('Please select a cofee from the menu')\n",
    "    \n",
    "if(flavour_syrup == 'yes'):\n",
    "    cost += 0.50\n",
    "\n",
    "tip = round(((cost * 0.15) + cost), 2)\n",
    "    \n",
    "print(f'Your total: {cost}')\n",
    "print(f'Your total with tip is {tip}')"
   ]
  },
  {
   "cell_type": "code",
   "execution_count": null,
   "id": "9307830e-b166-4398-9408-6295a29406cd",
   "metadata": {},
   "outputs": [],
   "source": [
    "print(\"Hello\";\"World\")"
   ]
  },
  {
   "cell_type": "code",
   "execution_count": null,
   "id": "b34e302d-8826-4418-b8d2-171f08e9c0f9",
   "metadata": {},
   "outputs": [],
   "source": []
  }
 ],
 "metadata": {
  "kernelspec": {
   "display_name": "Python 3 (ipykernel)",
   "language": "python",
   "name": "python3"
  },
  "language_info": {
   "codemirror_mode": {
    "name": "ipython",
    "version": 3
   },
   "file_extension": ".py",
   "mimetype": "text/x-python",
   "name": "python",
   "nbconvert_exporter": "python",
   "pygments_lexer": "ipython3",
   "version": "3.9.12"
  }
 },
 "nbformat": 4,
 "nbformat_minor": 5
}
