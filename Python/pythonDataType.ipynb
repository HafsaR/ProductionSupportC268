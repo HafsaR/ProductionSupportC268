{
 "cells": [
  {
   "cell_type": "markdown",
   "id": "5c13064a-88fc-4f36-bd2c-90d03426b5db",
   "metadata": {
    "tags": []
   },
   "source": [
    "#### Create a computer program that performs the following steps:\n",
    "\n",
    "Prompt the user for an integer and store the value in a variable.   \n",
    "Display the data type of the variable that holds the entered data.  \n",
    "Convert the value to an integer type and store the converted value in a new variable.  \n",
    "Display the value and type of the new variable in a single sentence. (For example, \"The value is 8 with type integer.\")  \n",
    "Run the program and enter a float value at the prompt. What is its value in the last step?  \n",
    "Refactor the program, using a float instead of an integer. What happens if you enter an integer rather than a float at the prompt?  "
   ]
  },
  {
   "cell_type": "code",
   "execution_count": 1,
   "id": "f727b424-c205-4df0-adb3-da7441bb9824",
   "metadata": {},
   "outputs": [
    {
     "name": "stdin",
     "output_type": "stream",
     "text": [
      "Enter an integer 1\n"
     ]
    },
    {
     "name": "stdout",
     "output_type": "stream",
     "text": [
      "\n",
      "The value is 1.0 with a type <class 'float'>\n",
      "\n"
     ]
    }
   ],
   "source": [
    "a = input('Enter an integer')\n",
    "type(a)\n",
    "b = float(a)\n",
    "print(f\"\"\"\n",
    "The value is {b} with a type {type(b)}\n",
    "\"\"\")"
   ]
  },
  {
   "cell_type": "markdown",
   "id": "7bf90e3f-a142-46f4-b290-2932ecde5c4d",
   "metadata": {},
   "source": [
    "#### 2. Update the code below so that the result is equal to 576. Do not change any of the existing values or operators or the order in which they appear.\n",
    "\n"
   ]
  },
  {
   "cell_type": "code",
   "execution_count": 11,
   "id": "aa339017-a0b2-4f6f-9652-eb7519ce689f",
   "metadata": {},
   "outputs": [
    {
     "name": "stdout",
     "output_type": "stream",
     "text": [
      "576\n"
     ]
    }
   ],
   "source": [
    "# do not change the order in which the numbers and operators appear in the next line\n",
    "result = (5 + 3) ** 2 * 9 \n",
    " \n",
    "print(result) # the output should be 576"
   ]
  },
  {
   "cell_type": "markdown",
   "id": "a6735b28-4cd4-456f-a421-08eec1cef0f6",
   "metadata": {},
   "source": [
    "#### 3. Create a computer program that prompts the user for a float number and returns the integer portion of the floating number.\n"
   ]
  },
  {
   "cell_type": "code",
   "execution_count": 22,
   "id": "ffa81262-e589-46f7-b8b5-e90b2a9c24af",
   "metadata": {},
   "outputs": [
    {
     "name": "stdin",
     "output_type": "stream",
     "text": [
      "Enter a number 3.4\n"
     ]
    },
    {
     "data": {
      "text/plain": [
       "4"
      ]
     },
     "execution_count": 22,
     "metadata": {},
     "output_type": "execute_result"
    }
   ],
   "source": [
    "import math\n",
    "\n",
    "a = float(input('Enter a number'))\n",
    "math.ceil(a)"
   ]
  },
  {
   "cell_type": "markdown",
   "id": "a9162e38-3363-484d-9429-6aedf8b219c8",
   "metadata": {},
   "source": [
    "#### 4. Write a computer program that calculates and displays the current value of a deposit for a given initial deposit, interest rate, how many times interest is calculated per year, and the number of years since the initial deposit.\n",
    "\n",
    "The program should prompt the user for each of the values and use the following formula to calculate the current value of the deposit:  \n",
    "V = P(1 + r/n)^nt  \n",
    "where  \n",
    "V -- value  \n",
    "P -- initial deposit  \n",
    "r -- interest rate as a fraction (eg 0.05)  \n",
    "n -- the number of times per year interest is calculated  \n",
    "t -- the number of years since the initial deposit  "
   ]
  },
  {
   "cell_type": "code",
   "execution_count": 54,
   "id": "40720dcb-5334-43dd-b0e1-45fe803ad1bf",
   "metadata": {},
   "outputs": [
    {
     "name": "stdin",
     "output_type": "stream",
     "text": [
      "Enter initial deposit hjdsvfj\n"
     ]
    },
    {
     "ename": "ValueError",
     "evalue": "could not convert string to float: 'hjdsvfj'",
     "output_type": "error",
     "traceback": [
      "\u001b[0;31m---------------------------------------------------------------------------\u001b[0m",
      "\u001b[0;31mValueError\u001b[0m                                Traceback (most recent call last)",
      "Input \u001b[0;32mIn [54]\u001b[0m, in \u001b[0;36m<cell line: 3>\u001b[0;34m()\u001b[0m\n\u001b[1;32m      1\u001b[0m \u001b[38;5;66;03m#V = P(1 + r/n)^nt  \u001b[39;00m\n\u001b[1;32m      2\u001b[0m \u001b[38;5;28;01mimport\u001b[39;00m \u001b[38;5;21;01mmath\u001b[39;00m\n\u001b[0;32m----> 3\u001b[0m P \u001b[38;5;241m=\u001b[39m \u001b[38;5;28;43mfloat\u001b[39;49m\u001b[43m(\u001b[49m\u001b[38;5;28;43minput\u001b[39;49m\u001b[43m(\u001b[49m\u001b[38;5;124;43m'\u001b[39;49m\u001b[38;5;124;43mEnter initial deposit\u001b[39;49m\u001b[38;5;124;43m'\u001b[39;49m\u001b[43m)\u001b[49m\u001b[43m)\u001b[49m\n\u001b[1;32m      4\u001b[0m r \u001b[38;5;241m=\u001b[39m \u001b[38;5;28mfloat\u001b[39m(\u001b[38;5;28minput\u001b[39m(\u001b[38;5;124m'\u001b[39m\u001b[38;5;124minterest rate as a fraction \u001b[39m\u001b[38;5;124m'\u001b[39m))\n\u001b[1;32m      5\u001b[0m n \u001b[38;5;241m=\u001b[39m \u001b[38;5;28mfloat\u001b[39m(\u001b[38;5;28minput\u001b[39m(\u001b[38;5;124m'\u001b[39m\u001b[38;5;124mThe number of times per year interest is calculated \u001b[39m\u001b[38;5;124m'\u001b[39m))\n",
      "\u001b[0;31mValueError\u001b[0m: could not convert string to float: 'hjdsvfj'"
     ]
    }
   ],
   "source": [
    "#V = P(1 + r/n)^nt  \n",
    "import math\n",
    "P = float(input('Enter initial deposit'))\n",
    "r = float(input('interest rate as a fraction '))\n",
    "n = float(input('The number of times per year interest is calculated '))\n",
    "t = int(input('the number of years since the initial deposit'))\n",
    "a = P * (1 + (r/n)) \n",
    "b = n * t\n",
    "V = math.pow(a, b)\n",
    "V"
   ]
  },
  {
   "cell_type": "markdown",
   "id": "0ba06ad4-e5f6-4753-8abd-ab7f86993cc6",
   "metadata": {},
   "source": [
    "#### 5. Write a computer program that prompts the user for a principal amount, the rate of interest, and the number of days for a loan and then calculates and returns the simple interest for the life of the loan. Use the formula:\n",
    "\n",
    "interest = principal * rate * days / 365"
   ]
  },
  {
   "cell_type": "code",
   "execution_count": 52,
   "id": "8ee01ea7-9a01-481f-ad34-906b073f7ec9",
   "metadata": {},
   "outputs": [
    {
     "name": "stdin",
     "output_type": "stream",
     "text": [
      "Enter principal amount, rate of interest and number of days for a loan 111111\n"
     ]
    },
    {
     "ename": "ValueError",
     "evalue": "too many values to unpack (expected 3)",
     "output_type": "error",
     "traceback": [
      "\u001b[0;31m---------------------------------------------------------------------------\u001b[0m",
      "\u001b[0;31mValueError\u001b[0m                                Traceback (most recent call last)",
      "Input \u001b[0;32mIn [52]\u001b[0m, in \u001b[0;36m<cell line: 1>\u001b[0;34m()\u001b[0m\n\u001b[0;32m----> 1\u001b[0m principal_amount,rate_interest, ndays \u001b[38;5;241m=\u001b[39m \u001b[38;5;28mlist\u001b[39m(\u001b[38;5;28minput\u001b[39m(\u001b[38;5;124m'\u001b[39m\u001b[38;5;124mEnter principal amount, rate of interest and number of days for a loan\u001b[39m\u001b[38;5;124m'\u001b[39m))\n\u001b[1;32m      2\u001b[0m \u001b[38;5;28mprint\u001b[39m(\u001b[38;5;124mf\u001b[39m\u001b[38;5;124m\"\"\"\u001b[39m\n\u001b[1;32m      3\u001b[0m \u001b[38;5;132;01m{\u001b[39;00mprincipal_amount\u001b[38;5;132;01m}\u001b[39;00m\u001b[38;5;124m, \u001b[39m\u001b[38;5;132;01m{\u001b[39;00mrate_interest\u001b[38;5;132;01m}\u001b[39;00m\u001b[38;5;124m, \u001b[39m\u001b[38;5;132;01m{\u001b[39;00mndays\u001b[38;5;132;01m}\u001b[39;00m\n\u001b[1;32m      4\u001b[0m \u001b[38;5;124m\"\"\"\u001b[39m)\n",
      "\u001b[0;31mValueError\u001b[0m: too many values to unpack (expected 3)"
     ]
    }
   ],
   "source": [
    "principal_amount,rate_interest, ndays = list(input('Enter principal amount, rate of interest and number of days for a loan'))\n",
    "print(f\"\"\"\n",
    "{principal_amount}, {rate_interest}, {ndays}\n",
    "\"\"\")\n",
    "\n",
    "# p * r * d / 365\n"
   ]
  },
  {
   "cell_type": "markdown",
   "id": "42ebc848-97a0-4df2-9e9e-f5da7ad42348",
   "metadata": {},
   "source": [
    "### 6. Create a computer program that displays three statements that evaluate to True and three statements that evaluate to False.  \n",
    "a = 0  \n",
    "b = 1  \n",
    "Output: a < b = True"
   ]
  },
  {
   "cell_type": "code",
   "execution_count": 55,
   "id": "79e0c9cf-5853-4cfa-8739-d28967f24654",
   "metadata": {},
   "outputs": [
    {
     "name": "stdin",
     "output_type": "stream",
     "text": [
      "Enter a value a 2\n",
      "Enter a value 3\n"
     ]
    },
    {
     "name": "stdout",
     "output_type": "stream",
     "text": [
      "True\n"
     ]
    }
   ],
   "source": [
    "a = int(input('Enter a value a'))\n",
    "b = int(input('Enter a value'))\n",
    "print( a < b )"
   ]
  },
  {
   "cell_type": "markdown",
   "id": "48de247c-834f-4975-a5fd-fbb04b2c088a",
   "metadata": {},
   "source": [
    "### 7. Create a computer program that prompts the user for a number and calculates the following:\n",
    "\n",
    "- the boolean of the number entered\n",
    "- the binary equivalent of the number entered\n",
    "- the square root of the number entered\n",
    "- The program should display the following to the user:\n",
    "\n",
    "- The number the user entered, in a phrase like, \"You selected value.\"\n",
    "- The boolean of the number, in a phrase like, \"The boolean of your number is value.\"\n",
    "- The binary equivalent of the number, in a phrase like, \"The binary equivalent of your number is value\"\n",
    "- The square root of the number, in a phrase like, \"The square root of your number is value,\" with the value rounded to three decimal places."
   ]
  },
  {
   "cell_type": "code",
   "execution_count": 71,
   "id": "3368f8c2-03ce-4d2f-a19e-664b178efe59",
   "metadata": {},
   "outputs": [
    {
     "name": "stdin",
     "output_type": "stream",
     "text": [
      "Enter number 2\n"
     ]
    },
    {
     "name": "stdout",
     "output_type": "stream",
     "text": [
      "\n",
      "You selected value 2\n",
      "The boolean of your number is True\n",
      "The binary equivalent of your number is 0b10\n",
      "The square root of your number is 1.414\n",
      "\n"
     ]
    }
   ],
   "source": [
    "import math\n",
    "number = int(input('Enter number'))\n",
    "print(f\"\"\"\n",
    "You selected value {number}\n",
    "The boolean of your number is {bool(number)}\n",
    "The binary equivalent of your number is {bin(number)}\n",
    "The square root of your number is {round(math.sqrt(number), 3)}\n",
    "\"\"\")\n"
   ]
  },
  {
   "cell_type": "markdown",
   "id": "6e77b1db-c06d-45df-9a8d-316fa40d28ff",
   "metadata": {},
   "source": [
    "### 8. Create a computer program that completes the following tasks:\n",
    "\n",
    "- It prompts the user for a series of 5 integers.\n",
    "    - The user must be prompted for 5 numbers.\n",
    "- After the fifth entry, the program stops prompting for values and performs the following calculations:\n",
    "    - the product of the integers\n",
    "    - the average of the integers\n",
    "    - the sum of the integers\n",
    "- After performing the calculations, the program should display the following to the user:\n",
    "    - the values the user entered\n",
    "    - each of the calculations, using a phrase that identifies the value"
   ]
  },
  {
   "cell_type": "code",
   "execution_count": 101,
   "id": "d2989dde-8840-4f7b-85ef-699ab8b91004",
   "metadata": {},
   "outputs": [
    {
     "name": "stdin",
     "output_type": "stream",
     "text": [
      "Enter number 1,2,3,4,5\n"
     ]
    },
    {
     "name": "stdout",
     "output_type": "stream",
     "text": [
      "\n",
      "the product of the integers: 120\n",
      "the sum of the integers: 15\n",
      "the average of the integers: 3.0\n",
      "\n"
     ]
    }
   ],
   "source": [
    "\"\"\"\n",
    "import numpy as np\n",
    "numberList = np.array([])\n",
    "\n",
    "for x in (1,5):\n",
    "    n = int(input('Enter a number'))\n",
    "    np.append(numberList, n)\n",
    "print(numberList)\n",
    "\"\"\"\n",
    "a, b, c, d, e = input('Enter number').split(',')\n",
    "\n",
    "a=int(a)\n",
    "b=int(b)\n",
    "c=int(c)\n",
    "d=int(d)\n",
    "e=int(e)\n",
    "\n",
    "print(f\"\"\"\n",
    "the product of the integers: {a * b * c * d * e}\n",
    "the sum of the integers: {a + b + c + d + e}\n",
    "the average of the integers: { (a + b + c + d + e) / 5}\n",
    "\"\"\")\n"
   ]
  },
  {
   "cell_type": "markdown",
   "id": "95bd0e73-4af1-4de6-92ed-76be3b6e9477",
   "metadata": {},
   "source": [
    "### 9. Write a program that performs the following steps:\n",
    "\n",
    "- Start with a street address that includes a building/house number, the name of the street, and the type of street (e.g., Street, Avenue, Boulevard, etc.).\n",
    "    - You can use any address you wish and abbreviations are acceptable.\n",
    "    - An example is 25 Main Street.\n",
    "- Display the full address to the user.\n",
    "- Display the house number only in a phrase like, \"The building or house number is 25.\"\n",
    "- Display the street name in a phrase like, \"The street name is Main Street.\""
   ]
  },
  {
   "cell_type": "code",
   "execution_count": 103,
   "id": "44909a21-fe9e-4b77-94c9-a24c61760ebf",
   "metadata": {},
   "outputs": [
    {
     "name": "stdin",
     "output_type": "stream",
     "text": [
      "Enter house number 35 avonhurst dr\n",
      "Enter street name 3\n"
     ]
    },
    {
     "name": "stdout",
     "output_type": "stream",
     "text": [
      "\n",
      "35 avonhurst dr 3\n",
      "The building or house number is 35 avonhurst dr\n",
      "The street name is 3\n",
      "\n"
     ]
    }
   ],
   "source": [
    "house_number = input('Enter house number')\n",
    "street_name = input('Enter street name')\n",
    "print(f\"\"\"\n",
    "{house_number} {street_name}\n",
    "The building or house number is {house_number}\n",
    "The street name is {street_name}\n",
    "\"\"\")"
   ]
  },
  {
   "cell_type": "code",
   "execution_count": null,
   "id": "e61cadf1-af4b-4975-aa18-53d9b45f7b24",
   "metadata": {},
   "outputs": [],
   "source": []
  }
 ],
 "metadata": {
  "kernelspec": {
   "display_name": "Python 3 (ipykernel)",
   "language": "python",
   "name": "python3"
  },
  "language_info": {
   "codemirror_mode": {
    "name": "ipython",
    "version": 3
   },
   "file_extension": ".py",
   "mimetype": "text/x-python",
   "name": "python",
   "nbconvert_exporter": "python",
   "pygments_lexer": "ipython3",
   "version": "3.9.12"
  }
 },
 "nbformat": 4,
 "nbformat_minor": 5
}
